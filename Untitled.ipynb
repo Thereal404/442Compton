{
 "cells": [
  {
   "cell_type": "code",
   "execution_count": 20,
   "id": "7c211ab7",
   "metadata": {},
   "outputs": [
    {
     "data": {
      "text/plain": [
       "1.9939804631647675"
      ]
     },
     "execution_count": 20,
     "metadata": {},
     "output_type": "execute_result"
    }
   ],
   "source": [
    "import xraydb as xr\n",
    "import numpy as np\n",
    "import matplotlib.pyplot as plt\n",
    "import csv\n",
    "import scipy as sp\n",
    "import sqlalchemy as sqa\n",
    "\n",
    "xr.incoherent_cross_section_elam(6,17600)/xr.coherent_cross_section_elam(6,17600)\n",
    "\n",
    "#t = np.arange(0,180,1)\n",
    "#q = 2*17.6*10**3/(sp.constants.c)*np.sin(t/2)\n",
    "\n"
   ]
  },
  {
   "cell_type": "code",
   "execution_count": null,
   "id": "60879176",
   "metadata": {},
   "outputs": [],
   "source": []
  }
 ],
 "metadata": {
  "kernelspec": {
   "display_name": "Python 3 (ipykernel)",
   "language": "python",
   "name": "python3"
  },
  "language_info": {
   "codemirror_mode": {
    "name": "ipython",
    "version": 3
   },
   "file_extension": ".py",
   "mimetype": "text/x-python",
   "name": "python",
   "nbconvert_exporter": "python",
   "pygments_lexer": "ipython3",
   "version": "3.9.13"
  }
 },
 "nbformat": 4,
 "nbformat_minor": 5
}
