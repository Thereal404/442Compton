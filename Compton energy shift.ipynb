{
 "cells": [
  {
   "cell_type": "code",
   "execution_count": 2,
   "metadata": {},
   "outputs": [
    {
     "name": "stdout",
     "output_type": "stream",
     "text": [
      "6.658533277581982\n",
      "21.39364617450456\n",
      "31.14190175001151\n",
      "32.57186213044781\n",
      "32.729298089282246\n",
      "32.729298089282246\n"
     ]
    },
    {
     "data": {
      "image/png": "[encoded data removed]",
      "text/plain": [
       "<Figure size 432x288 with 1 Axes>"
      ]
     },
     "metadata": {
      "needs_background": "light"
     },
     "output_type": "display_data"
    }
   ],
   "source": [
    "import numpy as np\n",
    "import matplotlib.pyplot as plt\n",
    "import csv\n",
    "import scipy.optimize as opt\n",
    "from scipy.optimize import minimize, least_squares\n",
    "from scipy.constants import e, h, hbar, alpha, c, m_e\n",
    "DPI = 100\n",
    "\n",
    "# A bunch of constants factored into a single variable. This is half the classical electron radius\n",
    "f = (hbar * alpha / m_e / c)**2 / 2\n",
    "# A grid of scattering angles in rad.\n",
    "theta = np.arange(0, 2*np.pi, 0.01)\n",
    "n = len(theta)\n",
    "# factor to take degrees to radians because its stupid\n",
    "a = np.pi/180\n",
    "\n",
    "# get experimental data\n",
    "x = [] # thetas\n",
    "y = [] # energies\n",
    "z = [] # errors\n",
    "\n",
    "with open('Carbon.csv') as File:  \n",
    "    Line_reader = csv.reader(File, delimiter=',')\n",
    "    for row in Line_reader:\n",
    "        x.append(float(row[0]))\n",
    "        y.append(float(row[1]))\n",
    "        z.append(float(row[2]))\n",
    "\n",
    "def energy_shift(E,phi):\n",
    "    # Incoming photon frequency (s^-1) and wavelength (m).\n",
    "    nu = E * 1.e6 * e / h\n",
    "    lam = c / nu\n",
    "\n",
    "    # Scattered photon wavelength (m).\n",
    "    lamp = lam + h / m_e / c * (1 - np.cos(phi*a))\n",
    "    \n",
    "    # Scattered photon energy (J)\n",
    "    Ep = h*c / lamp\n",
    "    # Scattered photon energy (eV)\n",
    "    EpeV = Ep / 1.6e-16\n",
    "    return EpeV\n",
    "        \n",
    "#write function to compute chi-squared as a function of a scaling factor l\n",
    "def chi(Egrid):\n",
    "    E = Egrid\n",
    "    chiSquare = 0\n",
    "    for i,b in enumerate(x):\n",
    "        chiSquare = chiSquare + (energy_shift(E,b)-y[i])**2 / z[i]**2\n",
    "        print(chiSquare)\n",
    "    print(chiSquare)\n",
    "    return chiSquare\n",
    "\n",
    "\n",
    "def plot_energy_shift(E):\n",
    "    \"\"\"Plot the Compton scattered energy for incoming photon energy, E.\"\"\"\n",
    "\n",
    "    # Incoming photon frequency (s^-1) and wavelength (m).\n",
    "    nu = E * 1.e6 * e / h\n",
    "    lam = c / nu\n",
    "\n",
    "    # Scattered photon wavelength (m).\n",
    "    lamp = lam + h / m_e / c * (1 - np.cos(theta))\n",
    "    \n",
    "    # Scattered photon energy (J)\n",
    "    Ep = h*c / lamp\n",
    "    # Scattered photon energy (eV)\n",
    "    EpeV = Ep / 1.6e-16\n",
    "\n",
    "    # Plot Energy\n",
    "    ax2.plot(np.degrees(theta[:n//2]), EpeV[:n//2],\n",
    "             label='Scattered Energy at: ' + str(E) + r' MeV')\n",
    "    \n",
    "# A Matplotlib figure with a polar Axes above a Cartesian one.\n",
    "fig, ax2 = plt.subplots()\n",
    "\n",
    "# Our grid of photon energies (in MeV).\n",
    "Egrid = 0.017479\n",
    "\n",
    "chi(Egrid)\n",
    "\n",
    "plot_energy_shift(Egrid)\n",
    "ax2.set_xlabel(r'$\\theta\\;/\\mathrm{deg}$')\n",
    "ax2.set_ylabel(r'$E_\\gamma\\;/\\mathrm{keV}$')\n",
    "# Set the Cartesian x-axis ticks to sensible values (in degrees).\n",
    "ax2.set_xticks([0, 30, 60, 90, 120, 150, 180]);\n",
    "\n",
    "# plot experimental data\n",
    "plt.plot(x,y,color='r',label=\"Carbon data\")\n",
    "\n",
    "plt.legend()\n",
    "plt.show()\n"
   ]
  },
  {
   "cell_type": "code",
   "execution_count": null,
   "metadata": {},
   "outputs": [],
   "source": []
  },
  {
   "cell_type": "code",
   "execution_count": null,
   "metadata": {},
   "outputs": [],
   "source": []
  }
 ],
 "metadata": {
  "kernelspec": {
   "display_name": "Python 3",
   "language": "python",
   "name": "python3"
  },
  "language_info": {
   "codemirror_mode": {
    "name": "ipython",
    "version": 3
   },
   "file_extension": ".py",
   "mimetype": "text/x-python",
   "name": "python",
   "nbconvert_exporter": "python",
   "pygments_lexer": "ipython3",
   "version": "3.8.3"
  }
 },
 "nbformat": 4,
 "nbformat_minor": 4
}
