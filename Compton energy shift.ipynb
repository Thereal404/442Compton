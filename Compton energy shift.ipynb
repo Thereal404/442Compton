{
 "cells": [
  {
   "cell_type": "code",
   "execution_count": 4,
   "metadata": {},
   "outputs": [
    {
     "data": {
      "text/plain": [
       "[<matplotlib.axis.XTick at 0x2a1bd4963a0>,\n",
       " <matplotlib.axis.XTick at 0x2a1bd496190>,\n",
       " <matplotlib.axis.XTick at 0x2a1bd423880>,\n",
       " <matplotlib.axis.XTick at 0x2a1bd4a7e50>,\n",
       " <matplotlib.axis.XTick at 0x2a1bd4ac1c0>]"
      ]
     },
     "execution_count": 4,
     "metadata": {},
     "output_type": "execute_result"
    },
    {
     "data": {
      "image/png": "[encoded data removed]",
      "text/plain": [
       "<Figure size 432x288 with 1 Axes>"
      ]
     },
     "metadata": {
      "needs_background": "light"
     },
     "output_type": "display_data"
    }
   ],
   "source": [
    "import numpy as np\n",
    "import matplotlib.pyplot as plt\n",
    "import csv\n",
    "import scipy.optimize as opt\n",
    "from scipy.optimize import minimize, least_squares\n",
    "from scipy.constants import e, h, hbar, alpha, c, m_e\n",
    "DPI = 100\n",
    "\n",
    "# A bunch of constants factored into a single variable. This is half the classical electron radius\n",
    "f = (hbar * alpha / m_e / c)**2 / 2\n",
    "# A grid of scattering angles in rad.\n",
    "theta = np.arange(0, 2*np.pi, 0.01)\n",
    "n = len(theta)\n",
    "\n",
    "def plot_energy_shift(E):\n",
    "    \"\"\"Plot the Compton scattered energy for incoming photon energy, E.\"\"\"\n",
    "\n",
    "    # Incoming photon frequency (s^-1) and wavelength (m).\n",
    "    nu = E * 1.e6 * e / h\n",
    "    lam = c / nu\n",
    "\n",
    "    # Scattered photon wavelength (m).\n",
    "    lamp = lam + h / m_e / c * (1 - np.cos(theta))\n",
    "    \n",
    "    # Scattered photon energy (J)\n",
    "    Ep = h*c / lamp\n",
    "    # Scattered photon energy (eV)\n",
    "    EpeV = Ep / 1.6e-16\n",
    "    P = lam / lamp\n",
    "    \n",
    "\n",
    "    # Plot Energy\n",
    "    ax2.plot(np.degrees(theta[:n//2]), EpeV[:n//2],\n",
    "             label='Scattered Energy at: ' + str(E) + r' MeV')\n",
    "    \n",
    "# A Matplotlib figure with a polar Axes above a Cartesian one.\n",
    "fig, ax2 = plt.subplots()\n",
    "\n",
    "# Our grid of photon energies (in MeV).\n",
    "Egrid = 0.0176\n",
    "\n",
    "plot_energy_shift(Egrid)\n",
    "ax2.set_xlabel(r'$\\theta\\;/\\mathrm{deg}$')\n",
    "ax2.set_ylabel(r'$E_\\gamma\\;/\\mathrm{keV}$')\n",
    "# Set the Cartesian x-axis ticks to sensible values (in degrees).\n",
    "ax2.set_xticks([0, 45, 90, 135, 180])\n"
   ]
  },
  {
   "cell_type": "code",
   "execution_count": null,
   "metadata": {},
   "outputs": [],
   "source": []
  }
 ],
 "metadata": {
  "kernelspec": {
   "display_name": "Python 3",
   "language": "python",
   "name": "python3"
  },
  "language_info": {
   "codemirror_mode": {
    "name": "ipython",
    "version": 3
   },
   "file_extension": ".py",
   "mimetype": "text/x-python",
   "name": "python",
   "nbconvert_exporter": "python",
   "pygments_lexer": "ipython3",
   "version": "3.8.3"
  }
 },
 "nbformat": 4,
 "nbformat_minor": 4
}
